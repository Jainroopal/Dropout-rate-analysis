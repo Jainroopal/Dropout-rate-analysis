{
 "cells": [
  {
   "cell_type": "code",
   "execution_count": 1,
   "metadata": {},
   "outputs": [],
   "source": [
    "import json\n",
    "\n",
    "y = json.loads(open('/home/roopal/Downloads/test.json').read())"
   ]
  },
  {
   "cell_type": "code",
   "execution_count": 2,
   "metadata": {},
   "outputs": [],
   "source": [
    "import pandas as pd\n",
    "s1 = pd.DataFrame(y[\"data\"], columns=[x[\"label\"] for x in y[\"fields\"]])"
   ]
  },
  {
   "cell_type": "code",
   "execution_count": 3,
   "metadata": {},
   "outputs": [],
   "source": [
    "lis = []\n",
    "import numpy as np\n",
    "for i in s1['State_UT'].unique():\n",
    "    for j in s1[s1['State_UT']==i].index:\n",
    "        a1 = s1.iloc[j].str.count(\"NR\").sum()\n",
    "        for i in str(a1):\n",
    "            lis.append(int(i))\n",
    "       "
   ]
  },
  {
   "cell_type": "code",
   "execution_count": 4,
   "metadata": {},
   "outputs": [],
   "source": [
    "d = {}\n",
    "for i in s1['State_UT'].unique():\n",
    "    d[i] = [[lis[j]] for j in s1[s1['State_UT']==i].index]"
   ]
  },
  {
   "cell_type": "code",
   "execution_count": 5,
   "metadata": {},
   "outputs": [
    {
     "data": {
      "text/plain": [
       "{'A & N Islands': [[0], [1], [0]],\n",
       " 'Andhra Pradesh': [[1], [0], [3]],\n",
       " 'Arunachal  Pradesh': [[0]],\n",
       " 'Arunachal Pradesh': [[0], [0]],\n",
       " 'Assam': [[0], [0], [3]],\n",
       " 'Bihar': [[9], [3], [5]],\n",
       " 'Chandigarh': [[7], [6], [6]],\n",
       " 'Chhattisgarh': [[3], [2], [0]],\n",
       " 'Dadra & Nagar Haveli': [[2], [0], [0]],\n",
       " 'Daman & Diu': [[7], [0], [0]],\n",
       " 'Delhi': [[5], [3], [3]],\n",
       " 'Goa': [[5], [3], [1]],\n",
       " 'Gujarat': [[0], [0], [0]],\n",
       " 'Haryana': [[3], [0], [0]],\n",
       " 'Himachal Pradesh': [[0], [0], [0]],\n",
       " 'Jammu & Kashmir': [[0], [0], [0]],\n",
       " 'Jharkhand': [[3], [3], [0]],\n",
       " 'Karnataka': [[0], [3], [1]],\n",
       " 'Kerala': [[9], [6], [6]],\n",
       " 'Lakshadweep': [[1], [2], [3]],\n",
       " 'Madhya Pradesh': [[3], [0], [2]],\n",
       " 'Maharashtra': [[0], [1], [0]],\n",
       " 'Manipur': [[0], [0], [3]],\n",
       " 'Meghalaya': [[3], [3], [3]],\n",
       " 'Mizoram': [[2], [3], [0]],\n",
       " 'Nagaland': [[0], [0], [0]],\n",
       " 'Odisha': [[3], [3], [3]],\n",
       " 'Puducherry': [[0], [0], [0]],\n",
       " 'Punjab': [[0], [0], [0]],\n",
       " 'Rajasthan': [[3], [3], [3]],\n",
       " 'Sikkim': [[0], [0], [0]],\n",
       " 'Tamil  Nadu': [[0]],\n",
       " 'Tamil Nadu': [[0], [6]],\n",
       " 'Telangana': [[0], [1]],\n",
       " 'Tripura': [[0], [0], [0]],\n",
       " 'Uttar Pradesh': [[7], [4], [0]],\n",
       " 'Uttarakhand': [[1], [2], [0]],\n",
       " 'West Bengal': [[0], [0], [0]],\n",
       " 'All India': [[3], [0]]}"
      ]
     },
     "execution_count": 5,
     "metadata": {},
     "output_type": "execute_result"
    }
   ],
   "source": [
    "d"
   ]
  },
  {
   "cell_type": "markdown",
   "metadata": {},
   "source": [
    "\n",
    "kerala = 21\n",
    "chandigarh = 19\n",
    "BIHAR = 17\n",
    "up = 11\n",
    "delhi = 11\n",
    "we can see the highest data is not recorded in kerala. Then chandigarh , bihar and  utter pradesh and delhi.\n",
    "so this states is highly inconsistent in reporting data.\n"
   ]
  },
  {
   "cell_type": "code",
   "execution_count": null,
   "metadata": {},
   "outputs": [],
   "source": []
  }
 ],
 "metadata": {
  "kernelspec": {
   "display_name": "Python 3",
   "language": "python",
   "name": "python3"
  },
  "language_info": {
   "codemirror_mode": {
    "name": "ipython",
    "version": 3
   },
   "file_extension": ".py",
   "mimetype": "text/x-python",
   "name": "python",
   "nbconvert_exporter": "python",
   "pygments_lexer": "ipython3",
   "version": "3.6.7"
  }
 },
 "nbformat": 4,
 "nbformat_minor": 2
}
