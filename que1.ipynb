{
 "cells": [
  {
   "cell_type": "code",
   "execution_count": 60,
   "metadata": {},
   "outputs": [],
   "source": [
    "import json\n",
    "\n",
    "y = json.loads(open('/home/roopal/Downloads/test.json').read())"
   ]
  },
  {
   "cell_type": "code",
   "execution_count": 61,
   "metadata": {},
   "outputs": [],
   "source": [
    "import pandas as pd\n",
    "s1 = pd.DataFrame(y[\"data\"], columns=[x[\"label\"] for x in y[\"fields\"]])"
   ]
  },
  {
   "cell_type": "code",
   "execution_count": 62,
   "metadata": {},
   "outputs": [],
   "source": [
    "v = s1.loc[s1['HrSecondary_Total'] == \"NR\",[ 'State_UT','HrSecondary_Total']]"
   ]
  },
  {
   "cell_type": "code",
   "execution_count": 63,
   "metadata": {},
   "outputs": [
    {
     "name": "stdout",
     "output_type": "stream",
     "text": [
      "{'Andhra Pradesh': 1, 'Assam': 1, 'Bihar': 3, 'Chhattisgarh': 2, 'Haryana': 1, 'Jharkhand': 2, 'Karnataka': 1, 'Kerala': 1, 'Madhya Pradesh': 2, 'Manipur': 1, 'Meghalaya': 3, 'Mizoram': 2, 'Odisha': 3, 'Rajasthan': 3, 'Uttar Pradesh': 2, 'Uttarakhand': 1, 'All India': 1}\n"
     ]
    }
   ],
   "source": [
    "import nltk\n",
    "word_dist = nltk.FreqDist(v[\"State_UT\"])\n",
    "print(dict(word_dist))"
   ]
  },
  {
   "cell_type": "code",
   "execution_count": 64,
   "metadata": {},
   "outputs": [],
   "source": [
    "s1 = s1.drop([12,13,14,66,67,68,84,85,86,75,76,77],axis=0)\n",
    "import numpy as np\n",
    "s1 = s1.replace(\"NR\",np.nan)"
   ]
  },
  {
   "cell_type": "code",
   "execution_count": 65,
   "metadata": {},
   "outputs": [],
   "source": [
    "s1= s1.reset_index(drop = True)"
   ]
  },
  {
   "cell_type": "code",
   "execution_count": 66,
   "metadata": {},
   "outputs": [],
   "source": [
    "s2 = s1.replace(np.nan,'0')\n"
   ]
  },
  {
   "cell_type": "code",
   "execution_count": 67,
   "metadata": {},
   "outputs": [
    {
     "name": "stdout",
     "output_type": "stream",
     "text": [
      "97\n"
     ]
    }
   ],
   "source": [
    "print(len(s1['HrSecondary_Total']))"
   ]
  },
  {
   "cell_type": "code",
   "execution_count": 68,
   "metadata": {},
   "outputs": [],
   "source": [
    "a = s2[[\"State_UT\",\"HrSecondary_Total\"]]\n",
    "a = pd.DataFrame(a)"
   ]
  },
  {
   "cell_type": "code",
   "execution_count": 69,
   "metadata": {},
   "outputs": [],
   "source": [
    "d = {}\n",
    "for i in a['State_UT'].unique():\n",
    "    d[i] = [float(a['HrSecondary_Total'][j]) for j in a[a['State_UT']==i].index]"
   ]
  },
  {
   "cell_type": "code",
   "execution_count": 70,
   "metadata": {},
   "outputs": [],
   "source": [
    "for j in a[a['State_UT']==\"Madhya  Pradesh\"].index:\n",
    "    print(j)\n",
    "    "
   ]
  },
  {
   "cell_type": "code",
   "execution_count": 71,
   "metadata": {},
   "outputs": [],
   "source": [
    "g = {}\n",
    "for i in a['State_UT'].unique():\n",
    "    g[i] = [sum(d[i])/len(d[i]) ]"
   ]
  },
  {
   "cell_type": "code",
   "execution_count": 72,
   "metadata": {},
   "outputs": [
    {
     "data": {
      "text/plain": [
       "'Madhya Pradesh'"
      ]
     },
     "execution_count": 72,
     "metadata": {},
     "output_type": "execute_result"
    }
   ],
   "source": [
    "#1) Find state with the highest percent of students finishing their schooling. \n",
    "min(g, key = lambda x: g.get(x))\n",
    "# answer is madhya pradesh"
   ]
  },
  {
   "cell_type": "code",
   "execution_count": null,
   "metadata": {},
   "outputs": [],
   "source": []
  },
  {
   "cell_type": "code",
   "execution_count": null,
   "metadata": {},
   "outputs": [],
   "source": []
  },
  {
   "cell_type": "code",
   "execution_count": null,
   "metadata": {},
   "outputs": [],
   "source": []
  },
  {
   "cell_type": "code",
   "execution_count": null,
   "metadata": {},
   "outputs": [],
   "source": []
  }
 ],
 "metadata": {
  "kernelspec": {
   "display_name": "Python 3",
   "language": "python",
   "name": "python3"
  },
  "language_info": {
   "codemirror_mode": {
    "name": "ipython",
    "version": 3
   },
   "file_extension": ".py",
   "mimetype": "text/x-python",
   "name": "python",
   "nbconvert_exporter": "python",
   "pygments_lexer": "ipython3",
   "version": "3.6.7"
  }
 },
 "nbformat": 4,
 "nbformat_minor": 2
}
